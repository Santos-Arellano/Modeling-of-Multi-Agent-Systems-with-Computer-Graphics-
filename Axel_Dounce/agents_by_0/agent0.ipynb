{
 "cells": [
  {
   "cell_type": "code",
   "execution_count": 7,
   "metadata": {},
   "outputs": [
    {
     "ename": "ModuleNotFoundError",
     "evalue": "No module named 'owlready2'",
     "output_type": "error",
     "traceback": [
      "\u001b[0;31m---------------------------------------------------------------------------\u001b[0m",
      "\u001b[0;31mModuleNotFoundError\u001b[0m                       Traceback (most recent call last)",
      "Cell \u001b[0;32mIn[7], line 2\u001b[0m\n\u001b[1;32m      1\u001b[0m \u001b[38;5;28;01mimport\u001b[39;00m \u001b[38;5;21;01magentpy\u001b[39;00m \u001b[38;5;28;01mas\u001b[39;00m \u001b[38;5;21;01map\u001b[39;00m\n\u001b[0;32m----> 2\u001b[0m \u001b[38;5;28;01mimport\u001b[39;00m \u001b[38;5;21;01mowlready2\u001b[39;00m  \u001b[38;5;66;03m# If needed for ontology-based reasoning or other purposes\u001b[39;00m\n\u001b[1;32m      3\u001b[0m \u001b[38;5;28;01mimport\u001b[39;00m \u001b[38;5;21;01mmatplotlib\u001b[39;00m\u001b[38;5;21;01m.\u001b[39;00m\u001b[38;5;21;01mpyplot\u001b[39;00m \u001b[38;5;28;01mas\u001b[39;00m \u001b[38;5;21;01mplt\u001b[39;00m\n\u001b[1;32m      4\u001b[0m \u001b[38;5;28;01mimport\u001b[39;00m \u001b[38;5;21;01mIPython\u001b[39;00m\n",
      "\u001b[0;31mModuleNotFoundError\u001b[0m: No module named 'owlready2'"
     ]
    }
   ],
   "source": [
    "import agentpy as ap\n",
    "import owlready2  # If needed for ontology-based reasoning or other purposes\n",
    "import matplotlib.pyplot as plt\n",
    "import IPython\n"
   ]
  },
  {
   "cell_type": "code",
   "execution_count": null,
   "metadata": {},
   "outputs": [],
   "source": [
    "class VaccumAgent(ap.Agent):\n",
    "    def setup(self):\n",
    "        self.agentType = 1\n",
    "        pass\n",
    "\n",
    "    def step(self):\n",
    "        self.forward()\n",
    "        pass\n",
    "\n",
    "    def update(self):\n",
    "        pass\n",
    "\n",
    "    def end(self):\n",
    "        pass\n",
    "\n",
    "    # ACCIONES\n",
    "    def forward(self):\n",
    "        self.model.grid.move_by(self, (0, 1))\n",
    "    "
   ]
  },
  {
   "cell_type": "code",
   "execution_count": null,
   "metadata": {},
   "outputs": [],
   "source": [
    "class dirtAgent(ap.Agent):\n",
    "    def setup(self):\n",
    "        self.agentType = 2\n",
    "        pass\n",
    "    def step(self):\n",
    "        pass\n",
    "    def update(self):\n",
    "        pass\n",
    "    def end(self):\n",
    "        pass    "
   ]
  },
  {
   "cell_type": "code",
   "execution_count": null,
   "metadata": {},
   "outputs": [],
   "source": [
    "class VaccumModel(ap.Model):\n",
    "    def setup(self):\n",
    "        self.grid = ap.Grid(self, (self.p.M, self.p.N), track_empty=True)\n",
    "        self.agents = ap.AgentList(self, self.p.vaccums, VaccumAgent)\n",
    "        self.dirtList = ap.AgentList(self, self.p.dirty_places, DirtAgent)\n",
    "        self.grid.add_agents(self.agents, random=True)\n",
    "    def step(self):\n",
    "        pass\n",
    "\n",
    "    def update(self):\n",
    "        pass\n",
    "    \n",
    "    def end(self):\n",
    "        pass"
   ]
  },
  {
   "cell_type": "code",
   "execution_count": null,
   "metadata": {},
   "outputs": [],
   "source": [
    "\n",
    "# Set up parameters for the model\n",
    "parameters = {\n",
    "    'vaccums': 1,\n",
    "    'dirty_places':10,\n",
    "    'M': 10,\n",
    "    'N': 10,\n",
    "    'steps': 100,\n",
    "    'seed': 12345,\n",
    "}\n",
    "model = VaccumModel(parameters)\n",
    "results = model.run()"
   ]
  },
  {
   "cell_type": "code",
   "execution_count": null,
   "metadata": {},
   "outputs": [],
   "source": [
    "#A FUNCTION TO ANIMATE THE SIMULATION\n",
    "def animation_plot(model,ax):\n",
    "    agent_type_grid = model.grid.attr_grid('agentType')\n",
    "    ap.gridplot(agent_type_grid, camp = 'accent', ax= ax)\n",
    "    ax.set_title(f\"Vaccum Model /n Time-step: {model.t}\" f\"dirty: {model.get_coins()}\")"
   ]
  },
  {
   "cell_type": "code",
   "execution_count": null,
   "metadata": {},
   "outputs": [],
   "source": [
    "#SIMULATION:\n",
    "\n",
    "#create figure(from matplotlib)\n",
    "fig, ax = plt.subplots()\n",
    "\n",
    "\n",
    "#Create model\n",
    "\n",
    "#Run with animation\n",
    "\n",
    "#if you want to run it Without animation the use instead:\n",
    "#model.run()\n",
    "\n",
    "#This step may take a while before you can see anything\n",
    "\n",
    "#Print the final animation"
   ]
  }
 ],
 "metadata": {
  "kernelspec": {
   "display_name": "Python 3",
   "language": "python",
   "name": "python3"
  },
  "language_info": {
   "codemirror_mode": {
    "name": "ipython",
    "version": 3
   },
   "file_extension": ".py",
   "mimetype": "text/x-python",
   "name": "python",
   "nbconvert_exporter": "python",
   "pygments_lexer": "ipython3",
   "version": "3.12.2"
  }
 },
 "nbformat": 4,
 "nbformat_minor": 2
}
