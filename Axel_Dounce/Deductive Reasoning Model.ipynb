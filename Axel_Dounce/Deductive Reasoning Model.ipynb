{
  "cells": [
    {
      "cell_type": "markdown",
      "metadata": {
        "id": "jV86d1WkULuC"
      },
      "source": [
        "# Wealth transfer"
      ]
    },
    {
      "cell_type": "code",
      "execution_count": 1,
      "metadata": {
        "collapsed": true,
        "id": "bM8dpXikNBo1"
      },
      "outputs": [],
      "source": [
        "#!pip install agentpy"
      ]
    },
    {
      "cell_type": "markdown",
      "metadata": {
        "id": "eBVZwMzNULuC"
      },
      "source": [
        "This notebook presents a tutorial for beginners on how to create a simple agent-based model with the [agentpy](https://agentpy.readthedocs.io) package.\n",
        "It demonstrates how to create a basic model with a custom agent type, run a simulation, record data, and visualize results."
      ]
    },
    {
      "cell_type": "code",
      "execution_count": 2,
      "metadata": {
        "id": "ZB7KmnJeULuT"
      },
      "outputs": [],
      "source": [
        "# Model design\n",
        "import agentpy as ap\n",
        "import numpy as np\n",
        "\n",
        "# Visualization\n",
        "import seaborn as sns"
      ]
    },
    {
      "cell_type": "markdown",
      "metadata": {
        "id": "OiuJ8pOPULuT"
      },
      "source": [
        "## About the model\n",
        "\n",
        "The model explores the distribution of wealth under a trading population of agents.\n",
        "Each agent starts with one unit of wealth.\n",
        "During each time-step, each agents with positive wealth\n",
        "randomly selects a trading partner and gives them one unit of their wealth.\n",
        "We will see that this random interaction will create an inequality of wealth that\n",
        "follows a [Boltzmann distribution](http://www.phys.ufl.edu/~meisel/Boltzmann.pdf).\n",
        "The original version of this model been written in [MESA](https://mesa.readthedocs.io/)\n",
        "and can be found [here](https://mesa.readthedocs.io/en/master/tutorials/intro_tutorial.html)."
      ]
    },
    {
      "cell_type": "markdown",
      "metadata": {
        "id": "NaWb030JULuT"
      },
      "source": [
        "## Model definition"
      ]
    },
    {
      "cell_type": "markdown",
      "metadata": {
        "id": "g8fxD8P-ULuT",
        "raw_mimetype": "text/restructuredtext"
      },
      "source": [
        "We start by defining a new type of `Agent` with the following methods:\n",
        "\n",
        "- `setup()` is called automatically when a new agent is created and initializes a variable `wealth`.\n",
        "- `wealth_transfer()` describes the agent's behavior at every time-step and will be called by the model."
      ]
    },
    {
      "cell_type": "code",
      "execution_count": 3,
      "metadata": {
        "id": "ahHA1K0_ULuT"
      },
      "outputs": [],
      "source": [
        "class WealthAgent(ap.Agent):\n",
        "\n",
        "    \"\"\"\n",
        "    An agent with wealth\n",
        "    El agente revisará en cada iteración si cada acción es válida con\n",
        "    respecto al conjunto de reglas.\n",
        "    \"\"\"\n",
        "\n",
        "\n",
        "    def see(self,e):\n",
        "        \"\"\"\n",
        "        La función de perceptión obtendrá un agente aleatorio de la lista de\n",
        "        agentes. Con el resultado de esta fución se actualizan los beliefs.\n",
        "        \"\"\"\n",
        "        per = e.random()\n",
        "        self.beliefs['partner'] = per\n",
        "\n",
        "    def next(self):\n",
        "        \"\"\"\n",
        "        La función next contiene el proceso de toma de decisión, donde se ejecuta\n",
        "        el algoritmo general del razonamiento deductivo\n",
        "        \"\"\"\n",
        "        # Por cada acción de la lista de acciones\n",
        "        for act in self.actions:\n",
        "            # Por cada regla de la lista de reglas\n",
        "            for rule in self.rules:\n",
        "                # Si la acción (act) es válida usando la regla (rule)\n",
        "                if rule(act):\n",
        "                    # Retornar la acción validada\n",
        "                    return act\n",
        "\n",
        "    def action(self,act):\n",
        "        \"\"\"\n",
        "        LA función de acción ejecutará la acción escogida (act)\n",
        "        \"\"\"\n",
        "        # Si la función existe...\n",
        "        if act is not None:\n",
        "            act() # Ejecutar acción (act)\n",
        "\n",
        "    def execute(self):\n",
        "        \"\"\"\n",
        "        LA función de ejecución del algoritmo del agente\n",
        "        \"\"\"\n",
        "        self.see(self.model.agents) # Función de percepción\n",
        "        a = self.next() # Función next (retorna acción escogida (a))\n",
        "        self.action(a)  # Función de acción (ejecuta la acción (a))\n",
        "\n",
        "\n",
        "    def setup(self):\n",
        "        \"\"\"\n",
        "        La inicialización de atributos del agente. Se consideran las creencias,\n",
        "        las acciones y las reglas.\n",
        "        \"\"\"\n",
        "        # Técnicamente esta variable (wealth) es un bilief, pero se lo dejamos\n",
        "        # por fuera por fines de practicidad por el momento\n",
        "        self.wealth = 1 # La creencia de que tengo riqueza\n",
        "        self.beliefs = {'partner': None}  # LA crrencia de que tengo un partner\n",
        "        self.actions = [self.wealth_transfer] # las acciones (solo hay una)\n",
        "        self.rules = [self.rule_1]  # las reglas (solo hay una)\n",
        "\n",
        "    def rule_1(self,act):\n",
        "        \"\"\"\n",
        "        Una regla de deducción de tipo \"Si A y B entonces C\". LA regla es:\n",
        "        \"Si tengo riqueza, y si existe un partner, entonces debo transferir\"\n",
        "        \"\"\"\n",
        "        rule_validation = [False,False,False]\n",
        "        if self.wealth > 0: # primera proposición (A)\n",
        "            rule_validation[0] = True\n",
        "        if self.beliefs[\"partner\"] is not None:  #seguna proposición (B)\n",
        "            rule_validation[1] = True\n",
        "        if act == self.wealth_transfer: # tercera propocisión (C)\n",
        "            rule_validation[2] = True\n",
        "        # Si las tres proposiciones se cumplen, entonces regresa True\n",
        "        return 3 == sum(rule_validation)\n",
        "\n",
        "    def wealth_transfer(self):\n",
        "        \"\"\"\n",
        "        Una acción, se ejecuta la transferencia de una moneda a un partner.\n",
        "        \"\"\"\n",
        "        self.beliefs['partner'].wealth += 1\n",
        "        self.wealth -= 1"
      ]
    },
    {
      "cell_type": "markdown",
      "metadata": {
        "id": "nPIxI3YSULuT",
        "raw_mimetype": "text/restructuredtext"
      },
      "source": [
        "Next, we define a method to calculate the [Gini Coefficient](https://en.wikipedia.org/wiki/Gini_coefficient),\n",
        "which will measure the inequality among our agents."
      ]
    },
    {
      "cell_type": "code",
      "execution_count": 4,
      "metadata": {
        "id": "m6O9DLHeULuj"
      },
      "outputs": [],
      "source": [
        "def gini(x):\n",
        "\n",
        "    \"\"\" Calculate Gini Coefficient \"\"\"\n",
        "    # By Warren Weckesser https://stackoverflow.com/a/39513799\n",
        "\n",
        "    x = np.array(x)\n",
        "    mad = np.abs(np.subtract.outer(x, x)).mean()  # Mean absolute difference\n",
        "    rmad = mad / np.mean(x)  # Relative mean absolute difference\n",
        "    return 0.5 * rmad"
      ]
    },
    {
      "cell_type": "markdown",
      "metadata": {
        "id": "LguBFMqHULuj",
        "raw_mimetype": "text/restructuredtext"
      },
      "source": [
        "Finally, we define our [`Model`](https://agentpy.readthedocs.io/en/stable/reference_models.html) with the following methods:\n",
        "\n",
        "- `setup` defines how many agents should be created at the beginning of the simulation.\n",
        "- `step` calls all agents during each time-step to perform their `wealth_transfer` method.\n",
        "- `update` calculates and record the current Gini coefficient after each time-step.\n",
        "- `end`, which is called at the end of the simulation, we record the wealth of each agent."
      ]
    },
    {
      "cell_type": "code",
      "execution_count": 5,
      "metadata": {
        "id": "MrnERWbzULuj"
      },
      "outputs": [],
      "source": [
        "class WealthModel(ap.Model):\n",
        "\n",
        "    \"\"\" A simple model of random wealth transfers \"\"\"\n",
        "\n",
        "    def setup(self):\n",
        "\n",
        "        self.agents = ap.AgentList(self, self.p.agents, WealthAgent)\n",
        "\n",
        "    def step(self):\n",
        "\n",
        "        self.agents.execute()\n",
        "\n",
        "    def update(self):\n",
        "\n",
        "        self.record('Gini Coefficient', gini(self.agents.wealth))\n",
        "\n",
        "    def end(self):\n",
        "\n",
        "        self.agents.record('wealth')"
      ]
    },
    {
      "cell_type": "markdown",
      "metadata": {
        "id": "mZE3I14DULuj"
      },
      "source": [
        "## Simulation run"
      ]
    },
    {
      "cell_type": "markdown",
      "metadata": {
        "id": "Wrmp2db_ULuj",
        "raw_mimetype": "text/restructuredtext"
      },
      "source": [
        "To prepare, we define parameter dictionary with a [random seed](https://agentpy.readthedocs.io/en/stable/guide_random.html), the number of agents, and the number of time-steps."
      ]
    },
    {
      "cell_type": "code",
      "execution_count": 6,
      "metadata": {
        "id": "0ciZT09lULuj"
      },
      "outputs": [],
      "source": [
        "parameters = {\n",
        "    'agents': 100,\n",
        "    'steps': 100,\n",
        "    'seed': 42,\n",
        "}"
      ]
    },
    {
      "cell_type": "markdown",
      "metadata": {
        "id": "a7FIHVhiULuj",
        "raw_mimetype": "text/restructuredtext"
      },
      "source": [
        "To perform a simulation, we initialize our model with a given set of parameters and call [`Model.run()`](https://agentpy.readthedocs.io/en/stable/reference_models.html)."
      ]
    },
    {
      "cell_type": "code",
      "execution_count": 7,
      "metadata": {
        "colab": {
          "base_uri": "https://localhost:8080/"
        },
        "id": "sr1p1g8aULuj",
        "outputId": "6936850b-48cc-41d9-c27a-f5c7df3a1d49"
      },
      "outputs": [
        {
          "name": "stdout",
          "output_type": "stream",
          "text": [
            "Completed: 100 steps\n",
            "Run time: 0:00:00.056639\n",
            "Simulation finished\n"
          ]
        }
      ],
      "source": [
        "model = WealthModel(parameters)\n",
        "results = model.run()"
      ]
    },
    {
      "cell_type": "markdown",
      "metadata": {
        "id": "vgf3e6LRULu0"
      },
      "source": [
        "## Output analysis"
      ]
    },
    {
      "cell_type": "markdown",
      "metadata": {
        "id": "AufU0vVQULu0"
      },
      "source": [
        "The simulation returns a [`DataDict`](https://agentpy.readthedocs.io/en/stable/reference_output.html) with our recorded variables."
      ]
    },
    {
      "cell_type": "code",
      "execution_count": 8,
      "metadata": {
        "colab": {
          "base_uri": "https://localhost:8080/"
        },
        "id": "9LqJxgNLULu0",
        "outputId": "be5410c4-d02b-4125-f231-f79a82ada818"
      },
      "outputs": [
        {
          "data": {
            "text/plain": [
              "DataDict {\n",
              "'info': Dictionary with 9 keys\n",
              "'parameters': \n",
              "    'constants': Dictionary with 3 keys\n",
              "'variables': \n",
              "    'WealthModel': DataFrame with 1 variable and 101 rows\n",
              "    'WealthAgent': DataFrame with 1 variable and 100 rows\n",
              "'reporters': DataFrame with 1 variable and 1 row\n",
              "}"
            ]
          },
          "execution_count": 8,
          "metadata": {},
          "output_type": "execute_result"
        }
      ],
      "source": [
        "results"
      ]
    },
    {
      "cell_type": "markdown",
      "metadata": {
        "id": "xhONLbX6ULu0"
      },
      "source": [
        "The output's `info` provides general information about the simulation."
      ]
    },
    {
      "cell_type": "code",
      "execution_count": 9,
      "metadata": {
        "colab": {
          "base_uri": "https://localhost:8080/"
        },
        "id": "wswoqdbRULu0",
        "outputId": "ccdace81-a627-4b38-e925-d15fb653f068"
      },
      "outputs": [
        {
          "data": {
            "text/plain": [
              "{'model_type': 'WealthModel',\n",
              " 'time_stamp': '2024-08-15 10:15:18',\n",
              " 'agentpy_version': '0.1.5',\n",
              " 'python_version': '3.12.',\n",
              " 'experiment': False,\n",
              " 'completed': True,\n",
              " 'created_objects': 100,\n",
              " 'completed_steps': 100,\n",
              " 'run_time': '0:00:00.056639'}"
            ]
          },
          "execution_count": 9,
          "metadata": {},
          "output_type": "execute_result"
        }
      ],
      "source": [
        "results.info"
      ]
    },
    {
      "cell_type": "markdown",
      "metadata": {
        "id": "ByPhUFXtULu0"
      },
      "source": [
        "To explore the evolution of inequality,\n",
        "we look at the recorded [`DataFrame`](https://pandas.pydata.org/pandas-docs/stable/reference/api/pandas.DataFrame.html) of the model's variables."
      ]
    },
    {
      "cell_type": "code",
      "execution_count": 10,
      "metadata": {
        "colab": {
          "base_uri": "https://localhost:8080/",
          "height": 238
        },
        "id": "GBNstnV4ULu0",
        "outputId": "291df8a7-efb4-4a46-f39d-8a7bc837bb27"
      },
      "outputs": [
        {
          "data": {
            "text/html": [
              "<div>\n",
              "<style scoped>\n",
              "    .dataframe tbody tr th:only-of-type {\n",
              "        vertical-align: middle;\n",
              "    }\n",
              "\n",
              "    .dataframe tbody tr th {\n",
              "        vertical-align: top;\n",
              "    }\n",
              "\n",
              "    .dataframe thead th {\n",
              "        text-align: right;\n",
              "    }\n",
              "</style>\n",
              "<table border=\"1\" class=\"dataframe\">\n",
              "  <thead>\n",
              "    <tr style=\"text-align: right;\">\n",
              "      <th></th>\n",
              "      <th>Gini Coefficient</th>\n",
              "    </tr>\n",
              "    <tr>\n",
              "      <th>t</th>\n",
              "      <th></th>\n",
              "    </tr>\n",
              "  </thead>\n",
              "  <tbody>\n",
              "    <tr>\n",
              "      <th>0</th>\n",
              "      <td>0.0000</td>\n",
              "    </tr>\n",
              "    <tr>\n",
              "      <th>1</th>\n",
              "      <td>0.5370</td>\n",
              "    </tr>\n",
              "    <tr>\n",
              "      <th>2</th>\n",
              "      <td>0.5758</td>\n",
              "    </tr>\n",
              "    <tr>\n",
              "      <th>3</th>\n",
              "      <td>0.5742</td>\n",
              "    </tr>\n",
              "    <tr>\n",
              "      <th>4</th>\n",
              "      <td>0.6008</td>\n",
              "    </tr>\n",
              "  </tbody>\n",
              "</table>\n",
              "</div>"
            ],
            "text/plain": [
              "   Gini Coefficient\n",
              "t                  \n",
              "0            0.0000\n",
              "1            0.5370\n",
              "2            0.5758\n",
              "3            0.5742\n",
              "4            0.6008"
            ]
          },
          "execution_count": 10,
          "metadata": {},
          "output_type": "execute_result"
        }
      ],
      "source": [
        "results.variables.WealthModel.head()"
      ]
    },
    {
      "cell_type": "markdown",
      "metadata": {
        "id": "sne_bCJVULu0",
        "raw_mimetype": "text/restructuredtext"
      },
      "source": [
        "To visualize this data,\n",
        "we can use [`DataFrame.plot`](https://pandas.pydata.org/pandas-docs/stable/reference/api/pandas.DataFrame.plot.html)."
      ]
    },
    {
      "cell_type": "code",
      "execution_count": 11,
      "metadata": {
        "colab": {
          "base_uri": "https://localhost:8080/",
          "height": 449
        },
        "id": "TSvPJyOXULu0",
        "outputId": "6ab47113-3ca9-49ea-d84b-3e943b5611f5"
      },
      "outputs": [
        {
          "data": {
            "image/png": "[encoded data removed]",
            "text/plain": [
              "<Figure size 640x480 with 1 Axes>"
            ]
          },
          "metadata": {},
          "output_type": "display_data"
        }
      ],
      "source": [
        "data = results.variables.WealthModel\n",
        "ax = data.plot()"
      ]
    },
    {
      "cell_type": "markdown",
      "metadata": {
        "id": "3CuIT8HzULu0",
        "raw_mimetype": "text/restructuredtext"
      },
      "source": [
        "To look at the distribution at the end of the simulation,\n",
        "we visualize the recorded agent variables with [seaborn](https://seaborn.pydata.org/)."
      ]
    },
    {
      "cell_type": "code",
      "execution_count": 12,
      "metadata": {
        "colab": {
          "base_uri": "https://localhost:8080/",
          "height": 430
        },
        "id": "HLQCq2YSULu0",
        "outputId": "584c36e5-e3fb-469a-a4e1-e8d33eaa764f"
      },
      "outputs": [
        {
          "data": {
            "image/png": "[encoded data removed]",
            "text/plain": [
              "<Figure size 640x480 with 1 Axes>"
            ]
          },
          "metadata": {},
          "output_type": "display_data"
        }
      ],
      "source": [
        "sns.histplot(data=results.variables.WealthAgent, binwidth=1);"
      ]
    },
    {
      "cell_type": "markdown",
      "metadata": {
        "id": "DnojDQKXULu0",
        "raw_mimetype": "text/restructuredtext"
      },
      "source": [
        "The result resembles a [Boltzmann distribution](http://www.phys.ufl.edu/~meisel/Boltzmann.pdf)."
      ]
    }
  ],
  "metadata": {
    "colab": {
      "provenance": []
    },
    "kernelspec": {
      "display_name": "Python 3",
      "language": "python",
      "name": "python3"
    },
    "language_info": {
      "codemirror_mode": {
        "name": "ipython",
        "version": 3
      },
      "file_extension": ".py",
      "mimetype": "text/x-python",
      "name": "python",
      "nbconvert_exporter": "python",
      "pygments_lexer": "ipython3",
      "version": "3.12.2"
    }
  },
  "nbformat": 4,
  "nbformat_minor": 0
}
